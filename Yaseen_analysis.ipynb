{
  "nbformat": 4,
  "nbformat_minor": 0,
  "metadata": {
    "colab": {
      "provenance": [],
      "collapsed_sections": [],
      "authorship_tag": "ABX9TyPqgFq+O0ORk0U7CsixfFLh",
      "include_colab_link": true
    },
    "kernelspec": {
      "name": "python3",
      "display_name": "Python 3"
    },
    "language_info": {
      "name": "python"
    },
    "gpuClass": "standard"
  },
  "cells": [
    {
      "cell_type": "markdown",
      "metadata": {
        "id": "view-in-github",
        "colab_type": "text"
      },
      "source": [
        "<a href=\"https://colab.research.google.com/github/jimmytju/AHF-Rapid-Diagnosis/blob/main/Yaseen_analysis.ipynb\" target=\"_parent\"><img src=\"https://colab.research.google.com/assets/colab-badge.svg\" alt=\"Open In Colab\"/></a>"
      ]
    },
    {
      "cell_type": "markdown",
      "source": [
        "# Import google.drive"
      ],
      "metadata": {
        "id": "dCgUaZuqurHF"
      }
    },
    {
      "cell_type": "code",
      "execution_count": 1,
      "metadata": {
        "id": "r9IOmAlUXbvS",
        "colab": {
          "base_uri": "https://localhost:8080/"
        },
        "outputId": "845d3901-346c-43a3-81a8-fee21147e81b"
      },
      "outputs": [
        {
          "output_type": "stream",
          "name": "stdout",
          "text": [
            "Drive already mounted at /content/drive; to attempt to forcibly remount, call drive.mount(\"/content/drive\", force_remount=True).\n"
          ]
        }
      ],
      "source": [
        "from google.colab import drive\n",
        "drive.mount('/content/drive')"
      ]
    },
    {
      "cell_type": "code",
      "source": [
        "!nvidia-smi"
      ],
      "metadata": {
        "id": "PNcrx4mLj5pY",
        "colab": {
          "base_uri": "https://localhost:8080/"
        },
        "outputId": "f5b100dd-ad27-43df-de49-34ddf7afde6a"
      },
      "execution_count": 2,
      "outputs": [
        {
          "output_type": "stream",
          "name": "stdout",
          "text": [
            "NVIDIA-SMI has failed because it couldn't communicate with the NVIDIA driver. Make sure that the latest NVIDIA driver is installed and running.\n",
            "\n"
          ]
        }
      ]
    },
    {
      "cell_type": "markdown",
      "source": [
        "# Import database"
      ],
      "metadata": {
        "id": "e50ZNdW9u7VO"
      }
    },
    {
      "cell_type": "code",
      "source": [
        "!unzip -q /content/drive/MyDrive/Yaseen-HS/dataset-Yaseen.zip \n",
        "!git clone https://github.com/jimmytju/AHF-Rapid-Diagnosis.git"
      ],
      "metadata": {
        "id": "KpvTquK_Yorx",
        "colab": {
          "base_uri": "https://localhost:8080/"
        },
        "outputId": "71d4327e-7483-4cf0-adce-7d12b3dbb5c2"
      },
      "execution_count": 3,
      "outputs": [
        {
          "output_type": "stream",
          "name": "stdout",
          "text": [
            "replace dataset-Yaseen/n-as/test/abn/New_AS_001.wav? [y]es, [n]o, [A]ll, [N]one, [r]ename: All\n",
            "fatal: destination path 'AHF-Rapid-Diagnosis' already exists and is not an empty directory.\n"
          ]
        }
      ]
    },
    {
      "cell_type": "markdown",
      "source": [
        "# Import tools"
      ],
      "metadata": {
        "id": "2mFV09tuuiNk"
      }
    },
    {
      "cell_type": "code",
      "source": [
        "import os"
      ],
      "metadata": {
        "id": "aumFqDUsXood"
      },
      "execution_count": 4,
      "outputs": []
    },
    {
      "cell_type": "code",
      "source": [],
      "metadata": {
        "id": "N8EGmC63s8q-"
      },
      "execution_count": 4,
      "outputs": []
    }
  ]
}